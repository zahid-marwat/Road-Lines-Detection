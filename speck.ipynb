{
 "cells": [
  {
   "cell_type": "code",
   "execution_count": null,
   "metadata": {},
   "outputs": [],
   "source": [
    "#speck\n",
    "def speck_encrypt(plain_text, key):\n",
    "    def ROR(x, r, word_size):\n",
    "        return ((x >> r) | (x << (word_size - r))) & ((2 ** word_size) - 1)\n",
    "\n",
    "    def ROL(x, r, word_size):\n",
    "        return ((x << r) | (x >> (word_size - r))) & ((2 ** word_size) - 1)\n",
    "\n",
    "    def expand_key(key, word_size, rounds):\n",
    "        key_words = [key[i] for i in range(len(key))]\n",
    "        round_keys = [key_words[0]]\n",
    "        for i in range(rounds - 1):\n",
    "            temp = ROR(key_words[i + 1], 8, word_size)\n",
    "            temp = (temp + round_keys[i]) & ((2 ** word_size) - 1)\n",
    "            temp ^= i\n",
    "            round_keys.append(temp)\n",
    "            key_words.append(ROL(key_words[i], 3, word_size))\n",
    "        return round_keys\n",
    "\n",
    "    def encrypt_block(plain_text, round_keys, word_size):\n",
    "        x, y = plain_text\n",
    "        for k in round_keys:\n",
    "            x = ROR(x, 8, word_size)\n",
    "            x = (x + y) & ((2 ** word_size) - 1)\n",
    "            x ^= k\n",
    "            y = ROL(y, 3, word_size)\n",
    "            y ^= x\n",
    "        return x, y\n",
    "\n",
    "    word_size = 16\n",
    "    rounds = 22\n",
    "    key = [int(key[i:i + 4], 16) for i in range(0, len(key), 4)]\n",
    "    round_keys = expand_key(key, word_size, rounds)\n",
    "    plain_text = [int(plain_text[i:i + 4], 16) for i in range(0, len(plain_text), 4)]\n",
    "    cipher_text = encrypt_block(plain_text, round_keys, word_size)\n",
    "    return ''.join([format(c, '04x') for c in cipher_text])\n",
    "\n",
    "# Example usage\n",
    "plain_text = \"82355676\"  # 64-bit plaintext (16 hex characters)\n",
    "key = \"1918111006089100\"  # 128-bit key (32 hex characters)\n",
    "cipher_text = speck_encrypt(plain_text, key)\n",
    "print(f\"Cipher Text: {cipher_text}\")"
   ]
  },
  {
   "cell_type": "markdown",
   "metadata": {},
   "source": [
    "Sure, let's break down the implementation of the SPECK encryption algorithm step by step:\n",
    "\n",
    "### Step 1: Define Helper Functions\n",
    "\n",
    "#### Rotate Right (ROR)\n"
   ]
  },
  {
   "cell_type": "code",
   "execution_count": null,
   "metadata": {},
   "outputs": [],
   "source": [
    "def ROR(x, r, word_size):\n",
    "    return ((x >> r) | (x << (word_size - r))) & ((2 ** word_size) - 1)"
   ]
  },
  {
   "cell_type": "markdown",
   "metadata": {},
   "source": [
    "- **Purpose**: Rotate the bits of `x` to the right by `r` positions.\n",
    "- **Explanation**: \n",
    "  - `x >> r`: Shift `x` right by `r` bits.\n",
    "  - `x << (word_size - r)`: Shift `x` left by `(word_size - r)` bits.\n",
    "  - `|`: Combine the two shifted values.\n",
    "  - `& ((2 ** word_size) - 1)`: Ensure the result fits within the word size by masking with `(2 ** word_size) - 1`.\n",
    "\n",
    "#### Rotate Left (ROL)\n"
   ]
  },
  {
   "cell_type": "code",
   "execution_count": null,
   "metadata": {},
   "outputs": [],
   "source": [
    "def ROL(x, r, word_size):\n",
    "    return ((x << r) | (x >> (word_size - r))) & ((2 ** word_size) - 1)"
   ]
  },
  {
   "cell_type": "markdown",
   "metadata": {},
   "source": [
    "- **Purpose**: Rotate the bits of `x` to the left by `r` positions.\n",
    "- **Explanation**: Similar to `ROR`, but shifts left first and then right.\n",
    "\n",
    "### Step 2: Key Expansion\n",
    "\n",
    "#### Expand Key\n"
   ]
  },
  {
   "cell_type": "code",
   "execution_count": null,
   "metadata": {},
   "outputs": [],
   "source": [
    "def expand_key(key, word_size, rounds):\n",
    "    key_words = [key[i] for i in range(len(key))]\n",
    "    round_keys = [key_words[0]]\n",
    "    for i in range(rounds - 1):\n",
    "        temp = ROR(key_words[i + 1], 8, word_size)\n",
    "        temp = (temp + round_keys[i]) & ((2 ** word_size) - 1)\n",
    "        temp ^= i\n",
    "        round_keys.append(temp)\n",
    "        key_words.append(ROL(key_words[i], 3, word_size))\n",
    "    return round_keys"
   ]
  },
  {
   "cell_type": "markdown",
   "metadata": {},
   "source": [
    "- **Purpose**: Generate round keys from the initial key.\n",
    "- **Explanation**:\n",
    "  - `key_words`: Split the key into words.\n",
    "  - `round_keys`: Initialize with the first key word.\n",
    "  - For each round:\n",
    "    - Rotate the next key word right by 8 bits.\n",
    "    - Add the previous round key and mask to fit the word size.\n",
    "    - XOR with the round index.\n",
    "    - Append the result to `round_keys`.\n",
    "    - Rotate the current key word left by 3 bits and append to `key_words`.\n",
    "\n",
    "### Step 3: Encrypt Block\n",
    "\n",
    "#### Encrypt Block\n"
   ]
  },
  {
   "cell_type": "code",
   "execution_count": null,
   "metadata": {},
   "outputs": [],
   "source": [
    "def encrypt_block(plain_text, round_keys, word_size):\n",
    "    x, y = plain_text\n",
    "    for k in round_keys:\n",
    "        x = ROR(x, 8, word_size)\n",
    "        x = (x + y) & ((2 ** word_size) - 1)\n",
    "        x ^= k\n",
    "        y = ROL(y, 3, word_size)\n",
    "        y ^= x\n",
    "    return x, y"
   ]
  },
  {
   "cell_type": "markdown",
   "metadata": {},
   "source": [
    "- **Purpose**: Encrypt a single block of plaintext using the round keys.\n",
    "- **Explanation**:\n",
    "  - Initialize `x` and `y` from the plaintext.\n",
    "  - For each round key:\n",
    "    - Rotate `x` right by 8 bits.\n",
    "    - Add `y` to `x` and mask to fit the word size.\n",
    "    - XOR `x` with the round key.\n",
    "    - Rotate `y` left by 3 bits.\n",
    "    - XOR `y` with `x`.\n",
    "  - Return the encrypted block.\n",
    "\n",
    "### Step 4: Main Encryption Function\n",
    "\n",
    "#### SPECK Encrypt\n"
   ]
  },
  {
   "cell_type": "code",
   "execution_count": null,
   "metadata": {},
   "outputs": [],
   "source": [
    "def speck_encrypt(plain_text, key):\n",
    "    word_size = 16\n",
    "    rounds = 22\n",
    "    key = [int(key[i:i + 4], 16) for i in range(0, len(key), 4)]\n",
    "    round_keys = expand_key(key, word_size, rounds)\n",
    "    plain_text = [int(plain_text[i:i + 4], 16) for i in range(0, len(plain_text), 4)]\n",
    "    cipher_text = encrypt_block(plain_text, round_keys, word_size)\n",
    "    return ''.join([format(c, '04x') for c in cipher_text])"
   ]
  },
  {
   "cell_type": "markdown",
   "metadata": {},
   "source": [
    "- **Purpose**: Encrypt a plaintext message using the SPECK algorithm.\n",
    "- **Explanation**:\n",
    "  - `word_size` and `rounds`: Define the word size and number of rounds.\n",
    "  - Convert the key and plaintext from hexadecimal strings to integer lists.\n",
    "  - Generate round keys using `expand_key`.\n",
    "  - Encrypt the plaintext block using `encrypt_block`.\n",
    "  - Convert the encrypted block back to a hexadecimal string.\n",
    "\n",
    "### Example Usage\n"
   ]
  },
  {
   "cell_type": "code",
   "execution_count": null,
   "metadata": {},
   "outputs": [],
   "source": [
    "plain_text = \"12345678\"  # 64-bit plaintext (16 hex characters)\n",
    "key = \"1918111009080100\"  # 128-bit key (32 hex characters)\n",
    "cipher_text = speck_encrypt(plain_text, key)\n",
    "print(f\"Cipher Text: {cipher_text}\")"
   ]
  },
  {
   "cell_type": "markdown",
   "metadata": {},
   "source": [
    "- **Purpose**: Demonstrate how to use the `speck_encrypt` function.\n",
    "- **Explanation**:\n",
    "  - Define a plaintext and key.\n",
    "  - Encrypt the plaintext using the key.\n",
    "  - Print the resulting ciphertext.\n",
    "\n",
    "This implementation provides a basic example of how to use the SPECK algorithm for encryption. Adjust the plaintext and key as needed for your specific use case."
   ]
  }
 ],
 "metadata": {
  "kernelspec": {
   "display_name": "LD_env",
   "language": "python",
   "name": "python3"
  },
  "language_info": {
   "codemirror_mode": {
    "name": "ipython",
    "version": 3
   },
   "file_extension": ".py",
   "mimetype": "text/x-python",
   "name": "python",
   "nbconvert_exporter": "python",
   "pygments_lexer": "ipython3",
   "version": "3.10.13"
  },
  "orig_nbformat": 4
 },
 "nbformat": 4,
 "nbformat_minor": 2
}
