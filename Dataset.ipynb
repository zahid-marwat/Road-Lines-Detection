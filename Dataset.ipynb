{
 "cells": [
  {
   "cell_type": "code",
   "execution_count": 13,
   "metadata": {},
   "outputs": [
    {
     "name": "stdout",
     "output_type": "stream",
     "text": [
      "4196\n",
      "Class counts: {'L1-1': 0, 'L2-1': 5250, 'L3-1': 0, 'L3-2': 0, 'L4-1': 367, 'L5-1': 3944, 'L6-1': 0, 'L7-1': 0, 'L7-2': 84, 'L8-1': 0, 'L9-1': 0, 'L10-1': 305, 'L11-1': 0, 'L18-1': 0, 'L21-1': 0, 'L24-1': 0, 'L25-1': 0, 'L26-1': 0, 'L27-1': 0, 'L36-1': 0}\n"
     ]
    }
   ],
   "source": [
    "import glob\n",
    "import os\n",
    "import json\n",
    "\n",
    "class_mapping = {\n",
    "    \"L1-1\": 0,\n",
    "    \"L2-1\": 1,\n",
    "    \"L3-1\": 2,\n",
    "    \"L3-2\": 3,\n",
    "    \"L4-1\": 4,\n",
    "    \"L5-1\": 5,\n",
    "    \"L6-1\": 6,\n",
    "    \"L7-1\": 7,\n",
    "    \"L7-2\": 8,\n",
    "    \"L8-1\": 9,\n",
    "    \"L9-1\": 10,\n",
    "    \"L10-1\": 11,\n",
    "    \"L11-1\": 12,\n",
    "    \"L18-1\": 13,\n",
    "    \"L21-1\": 14,\n",
    "    \"L24-1\": 15,\n",
    "    \"L25-1\": 16,\n",
    "    \"L26-1\": 17,\n",
    "    \"L27-1\": 18,\n",
    "    \"L36-1\": 19}\n",
    "\n",
    "def count_classes_in_annotations(directory):\n",
    "    # Get all JSON files in the specified directory\n",
    "    allfiles = glob.glob(os.path.join(directory, '*.json'))\n",
    "    print('Total files: 'len(allfiles))\n",
    "    # Initialize a dictionary to count occurrences of each class\n",
    "    class_counts = {class_name: 0 for class_name in class_mapping.keys()}\n",
    "    \n",
    "    # Loop through each JSON file\n",
    "    for file in allfiles:\n",
    "\n",
    "        with open(file, 'r') as f:\n",
    "            data = json.load(f)\n",
    "            # Iterate through the shapes array\n",
    "            for shape in data.get('shapes', []):\n",
    "                class_name = shape.get('label')\n",
    "                if class_name in class_counts:\n",
    "                    class_counts[class_name] += 1\n",
    " \n",
    "    # Return the class counts\n",
    "    return class_counts\n",
    "\n",
    "# Example usage\n",
    "directory = r'C:\\Users\\fbpza\\Desktop\\Road-Lines-Detection\\KSA dataset Insp\\Annotations'\n",
    "class_counts = count_classes_in_annotations(directory)\n"
   ]
  },
  {
   "cell_type": "code",
   "execution_count": 12,
   "metadata": {},
   "outputs": [
    {
     "data": {
      "text/plain": [
       "{'L1-1': 0,\n",
       " 'L2-1': 5250,\n",
       " 'L3-1': 0,\n",
       " 'L3-2': 0,\n",
       " 'L4-1': 367,\n",
       " 'L5-1': 3944,\n",
       " 'L6-1': 0,\n",
       " 'L7-1': 0,\n",
       " 'L7-2': 84,\n",
       " 'L8-1': 0,\n",
       " 'L9-1': 0,\n",
       " 'L10-1': 305,\n",
       " 'L11-1': 0,\n",
       " 'L18-1': 0,\n",
       " 'L21-1': 0,\n",
       " 'L24-1': 0,\n",
       " 'L25-1': 0,\n",
       " 'L26-1': 0,\n",
       " 'L27-1': 0,\n",
       " 'L36-1': 0}"
      ]
     },
     "execution_count": 12,
     "metadata": {},
     "output_type": "execute_result"
    }
   ],
   "source": [
    "class_counts"
   ]
  },
  {
   "cell_type": "code",
   "execution_count": 10,
   "metadata": {},
   "outputs": [
    {
     "name": "stdout",
     "output_type": "stream",
     "text": [
      "Unique labels: ['L5-1', 'RGA-4', 'L4-1', 'L10-1', 'L18- 1', 'ZigZag Marking', 'L6-1b', 'L2-1', 'RGA-1', 'L7-2']\n"
     ]
    }
   ],
   "source": [
    "import glob\n",
    "import os\n",
    "import json\n",
    "\n",
    "def get_unique_labels(directory):\n",
    "    allfiles = glob.glob(os.path.join(directory, '*.json'))\n",
    "    \n",
    "    unique_labels = set()\n",
    "    \n",
    "    for file in allfiles:\n",
    "        with open(file, 'r') as f:\n",
    "            data = json.load(f)\n",
    "            for shape in data.get('shapes', []):\n",
    "                class_name = shape.get('label')\n",
    "                unique_labels.add(class_name)\n",
    "    \n",
    "    return list(unique_labels)\n",
    "\n",
    "directory = r'C:\\Users\\fbpza\\Desktop\\Road-Lines-Detection\\KSA dataset Insp\\Annotations'\n",
    "unique_labels = get_unique_labels(directory)\n",
    "print(f'Unique labels: {unique_labels}')"
   ]
  }
 ],
 "metadata": {
  "kernelspec": {
   "display_name": "yolov8test",
   "language": "python",
   "name": "python3"
  },
  "language_info": {
   "codemirror_mode": {
    "name": "ipython",
    "version": 3
   },
   "file_extension": ".py",
   "mimetype": "text/x-python",
   "name": "python",
   "nbconvert_exporter": "python",
   "pygments_lexer": "ipython3",
   "version": "3.10.13"
  },
  "orig_nbformat": 4
 },
 "nbformat": 4,
 "nbformat_minor": 2
}
